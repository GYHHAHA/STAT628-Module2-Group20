{
 "cells": [
  {
   "cell_type": "code",
   "execution_count": 1,
   "metadata": {},
   "outputs": [
    {
     "data": {
      "text/plain": [
       "array([-34.53591896])"
      ]
     },
     "execution_count": 1,
     "metadata": {},
     "output_type": "execute_result"
    }
   ],
   "source": [
    "import pandas as pd\n",
    "import statsmodels.api as sm\n",
    "from statsmodels.regression.linear_model import OLS\n",
    "\n",
    "df = pd.read_csv(\"../data/cleaned_data.csv\")\n",
    "Y = df.BODYFAT\n",
    "X = df[[\"ABDOMEN\", \"FOREARM\", \"WEIGHT\", \"WRIST\"]]\n",
    "X = sm.add_constant(X)\n",
    "model = sm.OLS(Y, X)\n",
    "res = model.fit()\n",
    "res.predict([[1,1,2,3,4]])"
   ]
  },
  {
   "cell_type": "code",
   "execution_count": 3,
   "metadata": {},
   "outputs": [
    {
     "data": {
      "text/plain": [
       "<matplotlib.collections.PathCollection at 0x1dcf2d4f790>"
      ]
     },
     "execution_count": 3,
     "metadata": {},
     "output_type": "execute_result"
    },
    {
     "data": {
      "image/png": "[encoded data removed]",
      "text/plain": [
       "<Figure size 640x480 with 1 Axes>"
      ]
     },
     "metadata": {},
     "output_type": "display_data"
    }
   ],
   "source": [
    "import matplotlib.pyplot as plt\n",
    "plt.scatter(df.BODYFAT, df.WEIGHT)"
   ]
  },
  {
   "cell_type": "code",
   "execution_count": 2,
   "metadata": {},
   "outputs": [
    {
     "data": {
      "text/html": [
       "<table class=\"simpletable\">\n",
       "<caption>OLS Regression Results</caption>\n",
       "<tr>\n",
       "  <th>Dep. Variable:</th>         <td>BODYFAT</td>     <th>  R-squared:         </th> <td>   0.731</td>\n",
       "</tr>\n",
       "<tr>\n",
       "  <th>Model:</th>                   <td>OLS</td>       <th>  Adj. R-squared:    </th> <td>   0.726</td>\n",
       "</tr>\n",
       "<tr>\n",
       "  <th>Method:</th>             <td>Least Squares</td>  <th>  F-statistic:       </th> <td>   167.0</td>\n",
       "</tr>\n",
       "<tr>\n",
       "  <th>Date:</th>             <td>Sun, 16 Oct 2022</td> <th>  Prob (F-statistic):</th> <td>7.01e-69</td>\n",
       "</tr>\n",
       "<tr>\n",
       "  <th>Time:</th>                 <td>23:23:26</td>     <th>  Log-Likelihood:    </th> <td> -702.52</td>\n",
       "</tr>\n",
       "<tr>\n",
       "  <th>No. Observations:</th>      <td>   251</td>      <th>  AIC:               </th> <td>   1415.</td>\n",
       "</tr>\n",
       "<tr>\n",
       "  <th>Df Residuals:</th>          <td>   246</td>      <th>  BIC:               </th> <td>   1433.</td>\n",
       "</tr>\n",
       "<tr>\n",
       "  <th>Df Model:</th>              <td>     4</td>      <th>                     </th>     <td> </td>   \n",
       "</tr>\n",
       "<tr>\n",
       "  <th>Covariance Type:</th>      <td>nonrobust</td>    <th>                     </th>     <td> </td>   \n",
       "</tr>\n",
       "</table>\n",
       "<table class=\"simpletable\">\n",
       "<tr>\n",
       "     <td></td>        <th>coef</th>     <th>std err</th>      <th>t</th>      <th>P>|t|</th>  <th>[0.025</th>    <th>0.975]</th>  \n",
       "</tr>\n",
       "<tr>\n",
       "  <th>const</th>   <td>  -30.3119</td> <td>    6.731</td> <td>   -4.504</td> <td> 0.000</td> <td>  -43.569</td> <td>  -17.055</td>\n",
       "</tr>\n",
       "<tr>\n",
       "  <th>ABDOMEN</th> <td>    0.9181</td> <td>    0.052</td> <td>   17.685</td> <td> 0.000</td> <td>    0.816</td> <td>    1.020</td>\n",
       "</tr>\n",
       "<tr>\n",
       "  <th>FOREARM</th> <td>    0.4302</td> <td>    0.168</td> <td>    2.557</td> <td> 0.011</td> <td>    0.099</td> <td>    0.762</td>\n",
       "</tr>\n",
       "<tr>\n",
       "  <th>WEIGHT</th>  <td>   -0.1251</td> <td>    0.023</td> <td>   -5.468</td> <td> 0.000</td> <td>   -0.170</td> <td>   -0.080</td>\n",
       "</tr>\n",
       "<tr>\n",
       "  <th>WRIST</th>   <td>   -1.4068</td> <td>    0.409</td> <td>   -3.437</td> <td> 0.001</td> <td>   -2.213</td> <td>   -0.601</td>\n",
       "</tr>\n",
       "</table>\n",
       "<table class=\"simpletable\">\n",
       "<tr>\n",
       "  <th>Omnibus:</th>       <td> 5.710</td> <th>  Durbin-Watson:     </th> <td>   1.817</td>\n",
       "</tr>\n",
       "<tr>\n",
       "  <th>Prob(Omnibus):</th> <td> 0.058</td> <th>  Jarque-Bera (JB):  </th> <td>   3.384</td>\n",
       "</tr>\n",
       "<tr>\n",
       "  <th>Skew:</th>          <td>-0.040</td> <th>  Prob(JB):          </th> <td>   0.184</td>\n",
       "</tr>\n",
       "<tr>\n",
       "  <th>Kurtosis:</th>      <td> 2.437</td> <th>  Cond. No.          </th> <td>5.50e+03</td>\n",
       "</tr>\n",
       "</table><br/><br/>Notes:<br/>[1] Standard Errors assume that the covariance matrix of the errors is correctly specified.<br/>[2] The condition number is large, 5.5e+03. This might indicate that there are<br/>strong multicollinearity or other numerical problems."
      ],
      "text/plain": [
       "<class 'statsmodels.iolib.summary.Summary'>\n",
       "\"\"\"\n",
       "                            OLS Regression Results                            \n",
       "==============================================================================\n",
       "Dep. Variable:                BODYFAT   R-squared:                       0.731\n",
       "Model:                            OLS   Adj. R-squared:                  0.726\n",
       "Method:                 Least Squares   F-statistic:                     167.0\n",
       "Date:                Sun, 16 Oct 2022   Prob (F-statistic):           7.01e-69\n",
       "Time:                        23:23:26   Log-Likelihood:                -702.52\n",
       "No. Observations:                 251   AIC:                             1415.\n",
       "Df Residuals:                     246   BIC:                             1433.\n",
       "Df Model:                           4                                         \n",
       "Covariance Type:            nonrobust                                         \n",
       "==============================================================================\n",
       "                 coef    std err          t      P>|t|      [0.025      0.975]\n",
       "------------------------------------------------------------------------------\n",
       "const        -30.3119      6.731     -4.504      0.000     -43.569     -17.055\n",
       "ABDOMEN        0.9181      0.052     17.685      0.000       0.816       1.020\n",
       "FOREARM        0.4302      0.168      2.557      0.011       0.099       0.762\n",
       "WEIGHT        -0.1251      0.023     -5.468      0.000      -0.170      -0.080\n",
       "WRIST         -1.4068      0.409     -3.437      0.001      -2.213      -0.601\n",
       "==============================================================================\n",
       "Omnibus:                        5.710   Durbin-Watson:                   1.817\n",
       "Prob(Omnibus):                  0.058   Jarque-Bera (JB):                3.384\n",
       "Skew:                          -0.040   Prob(JB):                        0.184\n",
       "Kurtosis:                       2.437   Cond. No.                     5.50e+03\n",
       "==============================================================================\n",
       "\n",
       "Notes:\n",
       "[1] Standard Errors assume that the covariance matrix of the errors is correctly specified.\n",
       "[2] The condition number is large, 5.5e+03. This might indicate that there are\n",
       "strong multicollinearity or other numerical problems.\n",
       "\"\"\""
      ]
     },
     "execution_count": 2,
     "metadata": {},
     "output_type": "execute_result"
    }
   ],
   "source": [
    "res.summary()"
   ]
  },
  {
   "cell_type": "code",
   "execution_count": 13,
   "metadata": {},
   "outputs": [
    {
     "data": {
      "text/plain": [
       "const        1.00\n",
       "ABDOMEN    148.10\n",
       "FOREARM     34.90\n",
       "WEIGHT     363.15\n",
       "WRIST       21.40\n",
       "dtype: float64"
      ]
     },
     "execution_count": 13,
     "metadata": {},
     "output_type": "execute_result"
    }
   ],
   "source": [
    "X.max()"
   ]
  },
  {
   "cell_type": "code",
   "execution_count": 9,
   "metadata": {},
   "outputs": [
    {
     "data": {
      "text/html": [
       "<table class=\"simpletable\">\n",
       "<caption>OLS Regression Results</caption>\n",
       "<tr>\n",
       "  <th>Dep. Variable:</th>         <td>BODYFAT</td>     <th>  R-squared:         </th> <td>   0.731</td>\n",
       "</tr>\n",
       "<tr>\n",
       "  <th>Model:</th>                   <td>OLS</td>       <th>  Adj. R-squared:    </th> <td>   0.726</td>\n",
       "</tr>\n",
       "<tr>\n",
       "  <th>Method:</th>             <td>Least Squares</td>  <th>  F-statistic:       </th> <td>   167.0</td>\n",
       "</tr>\n",
       "<tr>\n",
       "  <th>Date:</th>             <td>Sun, 16 Oct 2022</td> <th>  Prob (F-statistic):</th> <td>7.01e-69</td>\n",
       "</tr>\n",
       "<tr>\n",
       "  <th>Time:</th>                 <td>22:00:41</td>     <th>  Log-Likelihood:    </th> <td> -702.52</td>\n",
       "</tr>\n",
       "<tr>\n",
       "  <th>No. Observations:</th>      <td>   251</td>      <th>  AIC:               </th> <td>   1415.</td>\n",
       "</tr>\n",
       "<tr>\n",
       "  <th>Df Residuals:</th>          <td>   246</td>      <th>  BIC:               </th> <td>   1433.</td>\n",
       "</tr>\n",
       "<tr>\n",
       "  <th>Df Model:</th>              <td>     4</td>      <th>                     </th>     <td> </td>   \n",
       "</tr>\n",
       "<tr>\n",
       "  <th>Covariance Type:</th>      <td>nonrobust</td>    <th>                     </th>     <td> </td>   \n",
       "</tr>\n",
       "</table>\n",
       "<table class=\"simpletable\">\n",
       "<tr>\n",
       "     <td></td>        <th>coef</th>     <th>std err</th>      <th>t</th>      <th>P>|t|</th>  <th>[0.025</th>    <th>0.975]</th>  \n",
       "</tr>\n",
       "<tr>\n",
       "  <th>const</th>   <td>  -30.3119</td> <td>    6.731</td> <td>   -4.504</td> <td> 0.000</td> <td>  -43.569</td> <td>  -17.055</td>\n",
       "</tr>\n",
       "<tr>\n",
       "  <th>ABDOMEN</th> <td>    0.9181</td> <td>    0.052</td> <td>   17.685</td> <td> 0.000</td> <td>    0.816</td> <td>    1.020</td>\n",
       "</tr>\n",
       "<tr>\n",
       "  <th>FOREARM</th> <td>    0.4302</td> <td>    0.168</td> <td>    2.557</td> <td> 0.011</td> <td>    0.099</td> <td>    0.762</td>\n",
       "</tr>\n",
       "<tr>\n",
       "  <th>WEIGHT</th>  <td>   -0.1251</td> <td>    0.023</td> <td>   -5.468</td> <td> 0.000</td> <td>   -0.170</td> <td>   -0.080</td>\n",
       "</tr>\n",
       "<tr>\n",
       "  <th>WRIST</th>   <td>   -1.4068</td> <td>    0.409</td> <td>   -3.437</td> <td> 0.001</td> <td>   -2.213</td> <td>   -0.601</td>\n",
       "</tr>\n",
       "</table>\n",
       "<table class=\"simpletable\">\n",
       "<tr>\n",
       "  <th>Omnibus:</th>       <td> 5.710</td> <th>  Durbin-Watson:     </th> <td>   1.817</td>\n",
       "</tr>\n",
       "<tr>\n",
       "  <th>Prob(Omnibus):</th> <td> 0.058</td> <th>  Jarque-Bera (JB):  </th> <td>   3.384</td>\n",
       "</tr>\n",
       "<tr>\n",
       "  <th>Skew:</th>          <td>-0.040</td> <th>  Prob(JB):          </th> <td>   0.184</td>\n",
       "</tr>\n",
       "<tr>\n",
       "  <th>Kurtosis:</th>      <td> 2.437</td> <th>  Cond. No.          </th> <td>5.50e+03</td>\n",
       "</tr>\n",
       "</table><br/><br/>Notes:<br/>[1] Standard Errors assume that the covariance matrix of the errors is correctly specified.<br/>[2] The condition number is large, 5.5e+03. This might indicate that there are<br/>strong multicollinearity or other numerical problems."
      ],
      "text/plain": [
       "<class 'statsmodels.iolib.summary.Summary'>\n",
       "\"\"\"\n",
       "                            OLS Regression Results                            \n",
       "==============================================================================\n",
       "Dep. Variable:                BODYFAT   R-squared:                       0.731\n",
       "Model:                            OLS   Adj. R-squared:                  0.726\n",
       "Method:                 Least Squares   F-statistic:                     167.0\n",
       "Date:                Sun, 16 Oct 2022   Prob (F-statistic):           7.01e-69\n",
       "Time:                        22:00:41   Log-Likelihood:                -702.52\n",
       "No. Observations:                 251   AIC:                             1415.\n",
       "Df Residuals:                     246   BIC:                             1433.\n",
       "Df Model:                           4                                         \n",
       "Covariance Type:            nonrobust                                         \n",
       "==============================================================================\n",
       "                 coef    std err          t      P>|t|      [0.025      0.975]\n",
       "------------------------------------------------------------------------------\n",
       "const        -30.3119      6.731     -4.504      0.000     -43.569     -17.055\n",
       "ABDOMEN        0.9181      0.052     17.685      0.000       0.816       1.020\n",
       "FOREARM        0.4302      0.168      2.557      0.011       0.099       0.762\n",
       "WEIGHT        -0.1251      0.023     -5.468      0.000      -0.170      -0.080\n",
       "WRIST         -1.4068      0.409     -3.437      0.001      -2.213      -0.601\n",
       "==============================================================================\n",
       "Omnibus:                        5.710   Durbin-Watson:                   1.817\n",
       "Prob(Omnibus):                  0.058   Jarque-Bera (JB):                3.384\n",
       "Skew:                          -0.040   Prob(JB):                        0.184\n",
       "Kurtosis:                       2.437   Cond. No.                     5.50e+03\n",
       "==============================================================================\n",
       "\n",
       "Notes:\n",
       "[1] Standard Errors assume that the covariance matrix of the errors is correctly specified.\n",
       "[2] The condition number is large, 5.5e+03. This might indicate that there are\n",
       "strong multicollinearity or other numerical problems.\n",
       "\"\"\""
      ]
     },
     "execution_count": 9,
     "metadata": {},
     "output_type": "execute_result"
    }
   ],
   "source": [
    "res.summary()"
   ]
  }
 ],
 "metadata": {
  "kernelspec": {
   "display_name": "Python 3.9.13 ('dev')",
   "language": "python",
   "name": "python3"
  },
  "language_info": {
   "codemirror_mode": {
    "name": "ipython",
    "version": 3
   },
   "file_extension": ".py",
   "mimetype": "text/x-python",
   "name": "python",
   "nbconvert_exporter": "python",
   "pygments_lexer": "ipython3",
   "version": "3.9.13"
  },
  "orig_nbformat": 4,
  "vscode": {
   "interpreter": {
    "hash": "c2c4fcb6fbb8406a20be2c418a66dd77d77e38a4dfcc60c6d00b3f4f3a2bb484"
   }
  }
 },
 "nbformat": 4,
 "nbformat_minor": 2
}
