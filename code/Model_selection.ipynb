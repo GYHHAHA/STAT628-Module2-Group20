{
 "cells": [
  {
   "cell_type": "code",
   "execution_count": 7,
   "id": "c9afde17",
   "metadata": {},
   "outputs": [],
   "source": [
    "import numpy as np\n",
    "import pandas as pd\n",
    "from sklearn.linear_model import LinearRegression"
   ]
  },
  {
   "cell_type": "code",
   "execution_count": 140,
   "id": "076a9366",
   "metadata": {},
   "outputs": [],
   "source": [
    "data = pd.read_csv(\"cleaned_data.csv\")\n",
    "data[\"WRIST_OVER_THIGH\"] = data[\"WRIST\"]/data[\"THIGH\"]\n",
    "y = data[\"BODYFAT\"]\n",
    "X = data.loc[:,\"AGE\":]"
   ]
  },
  {
   "cell_type": "markdown",
   "id": "f65faced",
   "metadata": {},
   "source": [
    "### Model based on Stepwise selection method "
   ]
  },
  {
   "cell_type": "code",
   "execution_count": 124,
   "id": "e7dbd5d3",
   "metadata": {},
   "outputs": [],
   "source": [
    "def stepwise_model(columns_stepwise,y):\n",
    "    X_stepwise = X.loc[:,columns_stepwise]\n",
    "    model = LinearRegression()\n",
    "    stepwise_reg = model.fit(X_stepwise,y)   \n",
    "    return stepwise_reg\n"
   ]
  },
  {
   "cell_type": "code",
   "execution_count": 141,
   "id": "1c23e25a",
   "metadata": {},
   "outputs": [
    {
     "data": {
      "text/plain": [
       "[array([ 0.91809023, -1.40679831,  0.43023399, -0.12513728]),\n",
       " -30.311872083456024]"
      ]
     },
     "execution_count": 141,
     "metadata": {},
     "output_type": "execute_result"
    }
   ],
   "source": [
    "columns_stepwise = [\"ABDOMEN\",\"WRIST\",\"FOREARM\",\"WEIGHT\"]\n",
    "[stepwise_model(columns_stepwise,y).coef_,stepwise_model(columns_stepwise,y).intercept_]\n"
   ]
  },
  {
   "cell_type": "markdown",
   "id": "84efa3b4",
   "metadata": {},
   "source": [
    "### Model based on Lasso method"
   ]
  },
  {
   "cell_type": "code",
   "execution_count": 127,
   "id": "69a26d51",
   "metadata": {},
   "outputs": [],
   "source": [
    "def lasso_model(columns_lasso ,y):\n",
    "    X_lasso = X.loc[:,columns_lasso]\n",
    "    model = LinearRegression()\n",
    "    lasso_reg = model.fit(X_lasso,y)\n",
    "    return lasso_reg\n"
   ]
  },
  {
   "cell_type": "code",
   "execution_count": 142,
   "id": "14ac40c0",
   "metadata": {},
   "outputs": [
    {
     "data": {
      "text/plain": [
       "[array([-0.15392043, -0.07889177,  0.89130143,  0.1717058 ]),\n",
       " -40.66300643430044]"
      ]
     },
     "execution_count": 142,
     "metadata": {},
     "output_type": "execute_result"
    }
   ],
   "source": [
    "columns_lasso = [\"WEIGHT\",\"HEIGHT\",\"ABDOMEN\",\"THIGH\"]\n",
    "[lasso_model(columns_lasso,y).coef_,stepwise_model(columns_lasso,y).intercept_]\n"
   ]
  },
  {
   "cell_type": "markdown",
   "id": "cf029725",
   "metadata": {},
   "source": [
    "### Model Performance Measure"
   ]
  },
  {
   "cell_type": "code",
   "execution_count": 129,
   "id": "dca023a8",
   "metadata": {},
   "outputs": [],
   "source": [
    "from sklearn.model_selection import cross_validate"
   ]
  },
  {
   "cell_type": "code",
   "execution_count": 145,
   "id": "5f9eea23",
   "metadata": {},
   "outputs": [
    {
     "name": "stdout",
     "output_type": "stream",
     "text": [
      "The mean square error on test set is 18.227794243147486.\n"
     ]
    }
   ],
   "source": [
    "lasso_reg = lasso_model(columns_lasso ,y)\n",
    "scores_lasso = cross_validate(lasso_reg, X.loc[:,columns_lasso], y, cv=6,scoring=('r2', 'neg_mean_squared_error'),return_train_score=True)\n",
    "lasso_test_mse = -scores_lasso['test_neg_mean_squared_error']\n",
    "#print(scores_lasso['test_neg_mean_squared_error'])\n",
    "print(f'The mean square error on test set based on lasso method is {lasso_test_mse.mean()}.')"
   ]
  },
  {
   "cell_type": "code",
   "execution_count": 148,
   "id": "23b8fed4",
   "metadata": {},
   "outputs": [
    {
     "name": "stdout",
     "output_type": "stream",
     "text": [
      "The mean square error on test set based on stepwise regression is 17.20866144114553.\n"
     ]
    }
   ],
   "source": [
    "step_reg = stepwise_model(columns_stepwise ,y)\n",
    "scores_stepwise = cross_validate(step_reg, X.loc[:,columns_stepwise], y, cv=6,scoring=('r2', 'neg_mean_squared_error'),return_train_score=True)\n",
    "stepwise_test_mse = -scores_stepwise['test_neg_mean_squared_error']\n",
    "#print(scores_stepwise['test_neg_mean_squared_error'])\n",
    "print(f'The mean square error on test set based on stepwise regression is {stepwise_test_mse.mean()}.')"
   ]
  },
  {
   "cell_type": "code",
   "execution_count": null,
   "id": "764373be",
   "metadata": {},
   "outputs": [],
   "source": []
  }
 ],
 "metadata": {
  "kernelspec": {
   "display_name": "Python 3",
   "language": "python",
   "name": "python3"
  },
  "language_info": {
   "codemirror_mode": {
    "name": "ipython",
    "version": 3
   },
   "file_extension": ".py",
   "mimetype": "text/x-python",
   "name": "python",
   "nbconvert_exporter": "python",
   "pygments_lexer": "ipython3",
   "version": "3.8.8"
  }
 },
 "nbformat": 4,
 "nbformat_minor": 5
}
